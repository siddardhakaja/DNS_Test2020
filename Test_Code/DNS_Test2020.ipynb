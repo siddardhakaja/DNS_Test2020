{
  "nbformat": 4,
  "nbformat_minor": 0,
  "metadata": {
    "colab": {
      "name": "DNS_Test2020.ipynb",
      "provenance": [],
      "collapsed_sections": []
    },
    "kernelspec": {
      "name": "python3",
      "display_name": "Python 3"
    }
  },
  "cells": [
    {
      "cell_type": "code",
      "metadata": {
        "id": "OXrIKJFourUS",
        "colab_type": "code",
        "colab": {}
      },
      "source": [
        "import numpy as np\n",
        "import matplotlib.pyplot as plt\n",
        "from mpl_toolkits.mplot3d import Axes3D"
      ],
      "execution_count": 1,
      "outputs": []
    },
    {
      "cell_type": "code",
      "metadata": {
        "id": "1f-Y-mULzBTX",
        "colab_type": "code",
        "colab": {}
      },
      "source": [
        "  observations = 100000\n",
        "\n",
        "xs = np.random.uniform(-10, 10,  (observations,1))\n",
        "zs = np.random.uniform(-10,10,(observations,1))\n",
        "\n",
        "inputs = np.column_stack((xs,zs))\n",
        "\n",
        "print (inputs.shape)\n"
      ],
      "execution_count": null,
      "outputs": []
    },
    {
      "cell_type": "code",
      "metadata": {
        "id": "RAx54pmDzBWG",
        "colab_type": "code",
        "colab": {}
      },
      "source": [
        "noise = np.random.uniform (-1,1, (observations,1))\n",
        "\n",
        "target = 2*xs - 3*zs + 5 + noise\n",
        "\n",
        "print (target.shape)"
      ],
      "execution_count": null,
      "outputs": []
    },
    {
      "cell_type": "code",
      "metadata": {
        "id": "yWeYyJLvzGBE",
        "colab_type": "code",
        "colab": {}
      },
      "source": [
        "target = target.reshape(observations,)\n",
        "fig = plt.figure()\n",
        "ax = fig.add_subplot(111, projection='3d')\n",
        "ax.plot(xs, zs, target)\n",
        "ax.set_xlabel('xs')\n",
        "ax.set_ylabel('zs')\n",
        "ax.set_zlabel('Target')\n",
        "ax.view_init(azim=100)\n",
        "plt.show()\n",
        "target = target.reshape(observations,1)"
      ],
      "execution_count": null,
      "outputs": []
    },
    {
      "cell_type": "code",
      "metadata": {
        "id": "VYHbaBjnoRRC",
        "colab_type": "code",
        "colab": {}
      },
      "source": [
        "init_range = 0.1\n",
        "\n",
        "weights = np.random.uniform (-init_range, +init_range, (2,1))\n",
        "biases = np.random.uniform (-init_range, +init_range, 1)\n",
        "\n",
        "print(weights)\n",
        "print(biases)"
      ],
      "execution_count": null,
      "outputs": []
    },
    {
      "cell_type": "code",
      "metadata": {
        "id": "sUFXksyjoTw8",
        "colab_type": "code",
        "colab": {}
      },
      "source": [
        "learning_rate = 0.02"
      ],
      "execution_count": 6,
      "outputs": []
    },
    {
      "cell_type": "code",
      "metadata": {
        "id": "5480sAlNoVxi",
        "colab_type": "code",
        "colab": {}
      },
      "source": [
        "for i in range (100):\n",
        "    outputs = np.dot(inputs,weights) +biases\n",
        "    deltas = outputs - target\n",
        "    loss = np.sum(deltas ** 2)/2 / observations\n",
        "    print(loss)\n",
        "    deltas_scaled = deltas/observations\n",
        "\n",
        "    weights = weights - learning_rate*np.dot(inputs.T,deltas_scaled)\n",
        "    biases = biases - learning_rate*np.sum(deltas_scaled)"
      ],
      "execution_count": null,
      "outputs": []
    },
    {
      "cell_type": "code",
      "metadata": {
        "id": "43ANSsvgoYd8",
        "colab_type": "code",
        "colab": {}
      },
      "source": [
        "print(weights,biases)"
      ],
      "execution_count": null,
      "outputs": []
    },
    {
      "cell_type": "code",
      "metadata": {
        "id": "CyLDqLmRoaON",
        "colab_type": "code",
        "colab": {}
      },
      "source": [
        "plt.plot(outputs,target)\n",
        "plt.xlabel('outputs')\n",
        "plt.ylabel('targets')\n",
        "plt.show()"
      ],
      "execution_count": null,
      "outputs": []
    }
  ]
}